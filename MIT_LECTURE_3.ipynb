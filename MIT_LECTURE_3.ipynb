{
 "cells": [
  {
   "cell_type": "code",
   "execution_count": 1,
   "id": "c36d6188",
   "metadata": {},
   "outputs": [
    {
     "name": "stdout",
     "output_type": "stream",
     "text": [
      "Do you sense water in the tank? Say Yes or No Yes\n",
      "Do you sense water in the tank? Say Yes or No Yes\n",
      "Do you sense water in the tank? Say Yes or No No\n",
      "You ran out of water\n"
     ]
    }
   ],
   "source": [
    "#while loop will continue to execute (repeat) its packed instruction until it happens to be false (check)\n",
    "#rechecking the condition every time after execution\n",
    "tank=input(\"Do you sense water in the tank? Say Yes or No \")\n",
    "while tank==\"Yes\":\n",
    "    tank=input(\"Do you sense water in the tank? Say Yes or No \")\n",
    "print(\"You ran out of water\")"
   ]
  },
  {
   "cell_type": "code",
   "execution_count": 3,
   "id": "7a838a68",
   "metadata": {},
   "outputs": [
    {
     "name": "stdout",
     "output_type": "stream",
     "text": [
      "Number of chocolate to be distributed: 5\n",
      "Yay, A Happy kid\n",
      "Yay, A Happy kid\n",
      "Yay, A Happy kid\n",
      "Yay, A Happy kid\n",
      "Yay, A Happy kid\n",
      "5 Happy Kids\n"
     ]
    }
   ],
   "source": [
    "n=int(input(\"Number of chocolate to be distributed: \"))\n",
    "m=n\n",
    "while n>0:\n",
    "    print(\"Yay, A Happy kid\")\n",
    "    n=n-1\n",
    "print(m,\"Happy Kids\")"
   ]
  },
  {
   "cell_type": "code",
   "execution_count": 4,
   "id": "77eb815b",
   "metadata": {},
   "outputs": [
    {
     "name": "stdout",
     "output_type": "stream",
     "text": [
      "Pay with card : card\n",
      "Pay with card : card\n",
      "Pay with card : card\n",
      "😞Pay with card : card\n",
      "😞Pay with card : card\n",
      "😞Pay with card : cash\n"
     ]
    }
   ],
   "source": [
    "#Tracking the count of while loop\n",
    "n = input(\"Pay with card : \")\n",
    "m=0\n",
    "while n==\"card\":\n",
    "    m = m+1\n",
    "    if m<3:\n",
    "        n = input(\"Pay with card : \")\n",
    "    else:\n",
    "        n = input(\"😞Pay with card : \")\n",
    "    "
   ]
  },
  {
   "cell_type": "code",
   "execution_count": 7,
   "id": "837f1e77",
   "metadata": {},
   "outputs": [
    {
     "name": "stdout",
     "output_type": "stream",
     "text": [
      "Enter the number: 5\n",
      "1\n",
      "2\n",
      "3\n",
      "5\n",
      "8\n"
     ]
    }
   ],
   "source": [
    "#Fibonacci series for nth iteration\n",
    "x,y=0,1\n",
    "n=int(input(\"Enter the number: \"))\n",
    "i=0\n",
    "while i<n:\n",
    "    summ=x+y\n",
    "    x=y\n",
    "    y=summ\n",
    "    i=i+1\n",
    "    print(summ)"
   ]
  },
  {
   "cell_type": "code",
   "execution_count": 8,
   "id": "05fac185",
   "metadata": {},
   "outputs": [
    {
     "name": "stdout",
     "output_type": "stream",
     "text": [
      "Let's paint the boxes black alternatively\n",
      "Number of boxes: 10\n",
      "House 1 is painted black\n",
      "House 3 is painted black\n",
      "House 5 is painted black\n",
      "House 7 is painted black\n",
      "House 9 is painted black\n"
     ]
    }
   ],
   "source": [
    "#for loops are used loop count is predetermined\n",
    "print(\"Let's paint the boxes black alternatively\")\n",
    "n=int(input(\"Number of boxes: \"))\n",
    "for i in range(1,n+1,2):\n",
    "    print(f'House {i} is painted black')"
   ]
  },
  {
   "cell_type": "code",
   "execution_count": 10,
   "id": "a9157fc9",
   "metadata": {},
   "outputs": [
    {
     "name": "stdout",
     "output_type": "stream",
     "text": [
      "720\n"
     ]
    }
   ],
   "source": [
    "#Factorial using for loop\n",
    "x=6\n",
    "fact=1\n",
    "for i in range(1,x+1,1):\n",
    "    fact*=i\n",
    "print(fact)"
   ]
  }
 ],
 "metadata": {
  "kernelspec": {
   "display_name": "Python 3 (ipykernel)",
   "language": "python",
   "name": "python3"
  },
  "language_info": {
   "codemirror_mode": {
    "name": "ipython",
    "version": 3
   },
   "file_extension": ".py",
   "mimetype": "text/x-python",
   "name": "python",
   "nbconvert_exporter": "python",
   "pygments_lexer": "ipython3",
   "version": "3.11.5"
  }
 },
 "nbformat": 4,
 "nbformat_minor": 5
}
