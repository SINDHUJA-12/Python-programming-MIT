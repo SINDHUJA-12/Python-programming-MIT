{
 "cells": [
  {
   "cell_type": "code",
   "execution_count": 1,
   "id": "262badf6",
   "metadata": {},
   "outputs": [
    {
     "name": "stdout",
     "output_type": "stream",
     "text": [
      "7 even numbers are present\n"
     ]
    }
   ],
   "source": [
    "#Counting the number of the even numbers in the range\n",
    "j=0\n",
    "for i in range(-6,8,2):\n",
    "    if i%2==0:\n",
    "        j=j+1\n",
    "print(f'{j} even numbers are present')\n",
    "        "
   ]
  },
  {
   "cell_type": "code",
   "execution_count": 2,
   "id": "dd30917a",
   "metadata": {},
   "outputs": [
    {
     "name": "stdout",
     "output_type": "stream",
     "text": [
      "0\n",
      "1\n",
      "2\n",
      "3\n",
      "4\n",
      "5\n",
      "6\n",
      "7\n",
      "8\n",
      "9\n",
      "10\n"
     ]
    }
   ],
   "source": [
    "#break statements exits whichever loop they are in \n",
    "x=0\n",
    "while True:\n",
    "    if x > 10:\n",
    "        break\n",
    "    print(x)\n",
    "    x=x+1\n",
    "#break statement will terminate only the nearest loop not the if statement. That's why the infinite loop ends.   "
   ]
  },
  {
   "cell_type": "code",
   "execution_count": 3,
   "id": "c13a0f6c",
   "metadata": {},
   "outputs": [
    {
     "name": "stdout",
     "output_type": "stream",
     "text": [
      "Total number of statements in the paragraph is 5\n"
     ]
    }
   ],
   "source": [
    "#Loops over strings: Let's calculate number of lines in paragraph\n",
    "s = \"Cats are vetebrates that belongs to kingdom Animalia. They are mammals catogorized under the family Felidae. Their sceintific name is Felis catus. Cats are highly intelligent creatures and are playful. They are carnivorous animals that eat meat,eggs and bones of other small animals.\"\n",
    "j=0\n",
    "for i in s:   #iterating through the charectors\n",
    "    if i == \".\":\n",
    "        j=j+1\n",
    "print(\"Total number of statements in the paragraph is\",j)        "
   ]
  },
  {
   "cell_type": "code",
   "execution_count": 4,
   "id": "38267f65",
   "metadata": {},
   "outputs": [
    {
     "name": "stdout",
     "output_type": "stream",
     "text": [
      "Found a vowel in position 4\n",
      "Found a vowel in position 10\n",
      "Found a vowel in position 16\n",
      "Found a vowel in position 22\n",
      "Found a vowel in position 30\n"
     ]
    }
   ],
   "source": [
    "#Let's find if any vowel falls on even position of the string(starting from 1)\n",
    "s = \"Sleep atleast eight hours in a day \"\n",
    "for i in range(1,len(s),2):   #iterating through the range of index\n",
    "    if s[i] in \"aeiou\" : \n",
    "        print(\"Found a vowel in position\",i+1)"
   ]
  },
  {
   "cell_type": "code",
   "execution_count": 5,
   "id": "e1625205",
   "metadata": {},
   "outputs": [
    {
     "name": "stdout",
     "output_type": "stream",
     "text": [
      "Number of unique charecctors 9\n"
     ]
    }
   ],
   "source": [
    "#Assume unique letters\n",
    "s =\"aabcdehffedhiggi\"\n",
    "empty=\"\"\n",
    "j=0\n",
    "for i in s:\n",
    "    if i in empty:\n",
    "        pass\n",
    "    else:\n",
    "        empty = empty+i\n",
    "        j=j+1\n",
    "print(\"Number of unique charecctors\",j)"
   ]
  },
  {
   "cell_type": "code",
   "execution_count": 6,
   "id": "6c2eb8ae",
   "metadata": {},
   "outputs": [
    {
     "name": "stdout",
     "output_type": "stream",
     "text": [
      "Enter the number-4\n",
      "Negative number? in imagination...let it be 4 instead\n"
     ]
    }
   ],
   "source": [
    "#Guess and check square root\n",
    "guess = 0\n",
    "flag=False\n",
    "x=int(input(\"Enter the number\"))\n",
    "if x<0:\n",
    "    flag=True\n",
    "while guess**2<x:\n",
    "    guess=guess+1\n",
    "if guess**2==x:\n",
    "    print(\"Yay, perfect square\")\n",
    "else:\n",
    "    if flag:\n",
    "        print(\"Negative number? in imagination...let it be\",-x,\"instead\")\n",
    "    else:\n",
    "        print(\"Not a perfect square\")"
   ]
  },
  {
   "cell_type": "code",
   "execution_count": 7,
   "id": "5676d615",
   "metadata": {},
   "outputs": [
    {
     "name": "stdout",
     "output_type": "stream",
     "text": [
      "Enter the number-27\n",
      "Yay,-3 is a perfect cube root\n"
     ]
    }
   ],
   "source": [
    "#Let's find the cube root\n",
    "cube=int(input(\"Enter the number\"))\n",
    "guess=0\n",
    "for guess in range(abs(cube)+1):\n",
    "    if guess**3==abs(cube):\n",
    "        if cube<0:\n",
    "            guess=-guess\n",
    "        print(f\"Yay,{guess} is a perfect cube root\")\n",
    "    "
   ]
  },
  {
   "cell_type": "code",
   "execution_count": 8,
   "id": "e100649d",
   "metadata": {},
   "outputs": [
    {
     "name": "stdout",
     "output_type": "stream",
     "text": [
      "Alyssa sold 3 tickets\n",
      "Ben sold 1 tickets\n",
      "Cindy sold 6 tickets\n"
     ]
    }
   ],
   "source": [
    "for A in range(11):\n",
    "    B=A-2\n",
    "    C=2*A\n",
    "    Total = A+B+C\n",
    "    if(Total==10):\n",
    "        print(f\"Alyssa sold {A} tickets\")\n",
    "        print(f\"Ben sold {B} tickets\")\n",
    "        print(f\"Cindy sold {C} tickets\")"
   ]
  },
  {
   "cell_type": "code",
   "execution_count": 9,
   "id": "f7d42650",
   "metadata": {},
   "outputs": [
    {
     "name": "stdout",
     "output_type": "stream",
     "text": [
      "Alyssa sold 3 tickets\n",
      "Ben sold 1 tickets\n",
      "Cindy sold 6 tickets\n"
     ]
    }
   ],
   "source": [
    "for A in range(11):\n",
    "    for B in range(11):\n",
    "        for C in range(11):\n",
    "            cond_1= (B==A-2)\n",
    "            cond_2 = (C==2*A)\n",
    "            cond_3 = (A+B+C==10)\n",
    "            if(cond_1 and cond_2 and cond_3):\n",
    "                print(f\"Alyssa sold {A} tickets\")\n",
    "                print(f\"Ben sold {B} tickets\")\n",
    "                print(f\"Cindy sold {C} tickets\")"
   ]
  },
  {
   "cell_type": "code",
   "execution_count": null,
   "id": "51169cee",
   "metadata": {},
   "outputs": [],
   "source": []
  }
 ],
 "metadata": {
  "kernelspec": {
   "display_name": "Python 3 (ipykernel)",
   "language": "python",
   "name": "python3"
  },
  "language_info": {
   "codemirror_mode": {
    "name": "ipython",
    "version": 3
   },
   "file_extension": ".py",
   "mimetype": "text/x-python",
   "name": "python",
   "nbconvert_exporter": "python",
   "pygments_lexer": "ipython3",
   "version": "3.11.5"
  }
 },
 "nbformat": 4,
 "nbformat_minor": 5
}
